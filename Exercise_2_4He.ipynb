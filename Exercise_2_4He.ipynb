{
 "cells": [
  {
   "cell_type": "markdown",
   "id": "5ea3e63e-70c6-4ccd-8d11-e2666515b669",
   "metadata": {},
   "source": [
    "4He Groundstate calculation with fixed a, beta, gamma"
   ]
  },
  {
   "cell_type": "code",
   "execution_count": 4,
   "id": "d1f2d25a-6d0d-4086-bf98-28467c4b4320",
   "metadata": {},
   "outputs": [],
   "source": [
    "# Packages\n",
    "import numpy as np\n",
    "import matplotlib.pyplot as plt\n",
    "from numba import njit"
   ]
  },
  {
   "cell_type": "code",
   "execution_count": 5,
   "id": "bba7180a-f4ff-4d7e-b3e2-0cdcf04aa235",
   "metadata": {},
   "outputs": [],
   "source": [
    "#parameters\n",
    "hbar2div2m = 20.74  # MeV * fm^2"
   ]
  },
  {
   "cell_type": "code",
   "execution_count": 6,
   "id": "ba479790-4c09-4825-9e67-facb2b947123",
   "metadata": {},
   "outputs": [],
   "source": [
    "# Define the inter-nucleon potential function\n",
    "@njit\n",
    "def potential(r2):\n",
    "    return (1000.0 * np.exp(-3.0 * r2) \n",
    "            - 163.35 * np.exp(-1.05 * r2) \n",
    "            - 83.0 * np.exp(-0.8 * r2) \n",
    "            - 21.5 * np.exp(-0.6 * r2) \n",
    "            - 11.5 * np.exp(-0.4 * r2))"
   ]
  },
  {
   "cell_type": "code",
   "execution_count": 7,
   "id": "9cf17d46-4c9a-4a51-b19f-1149e25facc6",
   "metadata": {},
   "outputs": [],
   "source": [
    "# Trial wave function for 4He\n",
    "@njit\n",
    "def trial_wave_function(positions, a, beta, gamma):\n",
    "    n_particles = positions.shape[0]\n",
    "    psi = 1.0\n",
    "    for i in range(n_particles):\n",
    "        for j in range(i + 1, n_particles):\n",
    "            r2 = np.sum((positions[i] - positions[j]) ** 2)\n",
    "            correlation = np.exp(-gamma * r2) - a * np.exp(-(beta + gamma) * r2)\n",
    "            psi *= correlation\n",
    "    return psi"
   ]
  },
  {
   "cell_type": "code",
   "execution_count": 8,
   "id": "1932413d-456b-4dda-8015-66475ec70df3",
   "metadata": {},
   "outputs": [],
   "source": [
    "# Local energy calculation\n",
    "@njit\n",
    "def local_energy(positions, a, beta, gamma):\n",
    "    n_particles = positions.shape[0]\n",
    "    # Potential part\n",
    "    V = 0.0\n",
    "    for i in range(n_particles):\n",
    "        for j in range(i + 1, n_particles):\n",
    "            r2 = np.sum((positions[i] - positions[j]) ** 2)\n",
    "            V += potential(r2)\n",
    "\n",
    "    # Kinetic energy part\n",
    "    psi = trial_wave_function(positions, a, beta, gamma)\n",
    "    grad_psi = 0.0 # Initializing wave function gradient\n",
    "    delta = 1e-5  # Delta size for kinetic energy approximate calculation\n",
    "\n",
    "    # Evaluating psi in two points and take the difference\n",
    "    for i in range(n_particles):\n",
    "        for j in range(3):  # They are 3D coordinates\n",
    "            positions[i, j] += delta\n",
    "            psi_plus = trial_wave_function(positions, a, beta, gamma)\n",
    "            positions[i, j] -= 2 * delta\n",
    "            psi_minus = trial_wave_function(positions, a, beta, gamma)\n",
    "            positions[i, j] += delta  # Restore original position\n",
    "            \n",
    "            grad_psi += (psi_plus - 2 * psi + psi_minus) / (delta ** 2)\n",
    "    \n",
    "    kinetic_energy = -hbar2div2m * grad_psi / psi\n",
    "    return kinetic_energy + V"
   ]
  },
  {
   "cell_type": "code",
   "execution_count": 9,
   "id": "fb54d270-e92d-4a69-a734-d8ca65d431ee",
   "metadata": {},
   "outputs": [],
   "source": [
    "# Main Variational Monte Carlo function with parameter optimization\n",
    "@njit\n",
    "def variational_monte_carlo(n_particles=4, n_steps=1000, thermalization_steps=300, a=0.1, beta=0.1, gamma=0.1):\n",
    "    positions = np.random.normal(0, 5, (n_particles, 3))  # Random initial positions\n",
    "    energy_samples = []\n",
    "\n",
    "    # Thermalization phase (accepted steps without recording the resulting energy)\n",
    "    for _ in range(thermalization_steps):\n",
    "        # Proposing new positions\n",
    "        new_positions = positions + np.random.normal(0, 0.5, positions.shape)\n",
    "        psi_old = trial_wave_function(positions, a, beta, gamma)\n",
    "        psi_new = trial_wave_function(new_positions, a, beta, gamma)\n",
    "        \n",
    "        # Define the metropolis acceptance condition\n",
    "        acceptance_ratio = (psi_new / psi_old) ** 2\n",
    "        if np.random.rand() < acceptance_ratio:\n",
    "            positions = new_positions  # Accepting step\n",
    "    \n",
    "    # Main sampling phase\n",
    "    for step in range(n_steps):\n",
    "        # Proposing new positions\n",
    "        new_positions = positions + np.random.normal(0, 0.5, positions.shape)\n",
    "        psi_old = trial_wave_function(positions, a, beta, gamma)\n",
    "        psi_new = trial_wave_function(new_positions, a, beta, gamma)\n",
    "        \n",
    "        # Define the metropolis acceptance condition\n",
    "        acceptance_ratio = (psi_new / psi_old) ** 2\n",
    "        if np.random.rand() < acceptance_ratio:\n",
    "            positions = new_positions  # Accepting step\n",
    "        \n",
    "        E_local = local_energy(positions, a, beta, gamma)\n",
    "        energy_samples.append(E_local)\n",
    "\n",
    "    # Converting energy_samples to a NumPy array, for compatibility issues with numba.\n",
    "    energy_samples = np.array(energy_samples)\n",
    "\n",
    "    # Computing the mean energy - and it's variance - over all the VMC steps\n",
    "    mean_energy = np.mean(energy_samples)\n",
    "    std_error = np.std(energy_samples) / np.sqrt(n_steps)\n",
    "    \n",
    "    return mean_energy, std_error\n"
   ]
  },
  {
   "cell_type": "code",
   "execution_count": 10,
   "id": "442a3e6e-578a-460c-a596-87783b52761d",
   "metadata": {},
   "outputs": [],
   "source": [
    "# Fixed parameters from \n",
    "a_fixed = 0.7191\n",
    "gamma_fixed = 0.08597\n",
    "beta_fixed = 2.13796 - gamma_fixed\n",
    "\n",
    "# Computing ground state energy with VMC\n",
    "mean_energy, std_error = variational_monte_carlo(n_particles=4, n_steps=2000, thermalization_steps=300, a=a_fixed, beta=beta_fixed, gamma=gamma_fixed)\n"
   ]
  },
  {
   "cell_type": "code",
   "execution_count": 17,
   "id": "398a24b7-2c27-490c-8eaa-cfe9c9a16caf",
   "metadata": {},
   "outputs": [
    {
     "name": "stdout",
     "output_type": "stream",
     "text": [
      "Estimated ground state energy: -26.055235471122664 MeV\n",
      "with standard error: 0.6317051515816682 MeV\n"
     ]
    }
   ],
   "source": [
    "# Print the energy and the standard deviation\n",
    "print(\"Estimated ground state energy:\", mean_energy, \"MeV\")\n",
    "print(\"with standard error:\", std_error, \"MeV\")"
   ]
  }
 ],
 "metadata": {
  "kernelspec": {
   "display_name": "Python 3 (ipykernel)",
   "language": "python",
   "name": "python3"
  },
  "language_info": {
   "codemirror_mode": {
    "name": "ipython",
    "version": 3
   },
   "file_extension": ".py",
   "mimetype": "text/x-python",
   "name": "python",
   "nbconvert_exporter": "python",
   "pygments_lexer": "ipython3",
   "version": "3.11.10"
  }
 },
 "nbformat": 4,
 "nbformat_minor": 5
}
